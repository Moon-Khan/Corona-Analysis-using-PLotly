{
 "cells": [
  {
   "cell_type": "code",
   "execution_count": 17,
   "metadata": {},
   "outputs": [],
   "source": [
    "import pandas as pd\n",
    "import psycopg2\n",
    "from datetime import datetime\n",
    "\n",
    "# Read CSV file into a DataFrame\n",
    "df = pd.read_csv('Corona_NLP_test.csv')\n",
    "\n",
    "# Convert TweetAt column to datetime format\n",
    "df['TweetAt'] = pd.to_datetime(df['TweetAt'], format='%d-%m-%Y')\n",
    "\n",
    "# Drop rows with any empty or null values\n",
    "df = df.dropna()\n",
    "\n",
    "# Connect to PostgreSQL\n",
    "connection = psycopg2.connect(\n",
    "    host=\"localhost\",\n",
    "    database=\"Corona_NLP_db\",\n",
    "    user=\"postgres\",\n",
    "    password=\"3234\"\n",
    ")\n",
    "\n",
    "# Create a cursor object\n",
    "cursor = connection.cursor()\n",
    "\n",
    "# Create table\n",
    "create_table_query = '''\n",
    "CREATE TABLE IF NOT EXISTS Corona_NLP_table (\n",
    "    UserName VARCHAR(255),\n",
    "    ScreenName VARCHAR(255),\n",
    "    Location VARCHAR(255),\n",
    "    TweetAt DATE,\n",
    "    OriginalTweet TEXT,\n",
    "    Sentiment VARCHAR(50)\n",
    ");\n",
    "'''\n",
    "cursor.execute(create_table_query)\n",
    "\n",
    "# Convert DataFrame to list of tuples\n",
    "data = [tuple(row) for row in df.values]\n",
    "\n",
    "# Insert data into PostgreSQL\n",
    "insert_query = '''\n",
    "INSERT INTO Corona_NLP_table (UserName, ScreenName, Location, TweetAt, OriginalTweet, Sentiment)\n",
    "VALUES (%s, %s, %s, %s, %s, %s);\n",
    "'''\n",
    "cursor.executemany(insert_query, data)\n",
    "\n",
    "# Commit changes\n",
    "connection.commit()\n",
    "\n",
    "# Close the cursor and connection\n",
    "cursor.close()\n",
    "connection.close()\n",
    "\n",
    "\n",
    "\n",
    "\n",
    "# import psycopg2\n",
    "\n",
    "# # Connect to PostgreSQL\n",
    "# connection = psycopg2.connect(\n",
    "#     host=\"localhost\",\n",
    "#     database=\"postgres\",  # Connect to the default 'postgres' database\n",
    "#     user=\"postgres\",\n",
    "#     password=\"3234\"\n",
    "# )\n",
    "\n",
    "# # Create a cursor object\n",
    "# cursor = connection.cursor()\n",
    "\n",
    "# # SQL command to drop the database\n",
    "# sql_command = \"DROP DATABASE IF EXISTS Corona_NLP_db;\"\n",
    "\n",
    "# # Execute the SQL command\n",
    "# cursor.execute(sql_command)\n",
    "\n",
    "# # Commit the changes\n",
    "# connection.commit()\n",
    "\n",
    "# # Close cursor and connection\n",
    "# cursor.close()\n",
    "# connection.close()\n",
    "\n",
    "# print(\"Database 'Corona_NLP_db' has been removed.\")\n"
   ]
  },
  {
   "cell_type": "code",
   "execution_count": 8,
   "metadata": {},
   "outputs": [
    {
     "data": {
      "application/vnd.plotly.v1+json": {
       "config": {
        "plotlyServerURL": "https://plot.ly"
       },
       "data": [
        {
         "alignmentgroup": "True",
         "hovertemplate": "Sentiment=%{x}<br>Count=%{y}<extra></extra>",
         "legendgroup": "",
         "marker": {
          "color": "#636efa",
          "pattern": {
           "shape": ""
          }
         },
         "name": "",
         "offsetgroup": "",
         "orientation": "v",
         "showlegend": false,
         "textposition": "auto",
         "type": "bar",
         "x": [
          "Negative",
          "Positive",
          "Neutral",
          "Extremely Positive",
          "Extremely Negative"
         ],
         "xaxis": "x",
         "y": [
          1041,
          947,
          619,
          599,
          592
         ],
         "yaxis": "y"
        }
       ],
       "layout": {
        "barmode": "relative",
        "legend": {
         "tracegroupgap": 0
        },
        "margin": {
         "t": 60
        },
        "template": {
         "data": {
          "bar": [
           {
            "error_x": {
             "color": "#2a3f5f"
            },
            "error_y": {
             "color": "#2a3f5f"
            },
            "marker": {
             "line": {
              "color": "#E5ECF6",
              "width": 0.5
             },
             "pattern": {
              "fillmode": "overlay",
              "size": 10,
              "solidity": 0.2
             }
            },
            "type": "bar"
           }
          ],
          "barpolar": [
           {
            "marker": {
             "line": {
              "color": "#E5ECF6",
              "width": 0.5
             },
             "pattern": {
              "fillmode": "overlay",
              "size": 10,
              "solidity": 0.2
             }
            },
            "type": "barpolar"
           }
          ],
          "carpet": [
           {
            "aaxis": {
             "endlinecolor": "#2a3f5f",
             "gridcolor": "white",
             "linecolor": "white",
             "minorgridcolor": "white",
             "startlinecolor": "#2a3f5f"
            },
            "baxis": {
             "endlinecolor": "#2a3f5f",
             "gridcolor": "white",
             "linecolor": "white",
             "minorgridcolor": "white",
             "startlinecolor": "#2a3f5f"
            },
            "type": "carpet"
           }
          ],
          "choropleth": [
           {
            "colorbar": {
             "outlinewidth": 0,
             "ticks": ""
            },
            "type": "choropleth"
           }
          ],
          "contour": [
           {
            "colorbar": {
             "outlinewidth": 0,
             "ticks": ""
            },
            "colorscale": [
             [
              0,
              "#0d0887"
             ],
             [
              0.1111111111111111,
              "#46039f"
             ],
             [
              0.2222222222222222,
              "#7201a8"
             ],
             [
              0.3333333333333333,
              "#9c179e"
             ],
             [
              0.4444444444444444,
              "#bd3786"
             ],
             [
              0.5555555555555556,
              "#d8576b"
             ],
             [
              0.6666666666666666,
              "#ed7953"
             ],
             [
              0.7777777777777778,
              "#fb9f3a"
             ],
             [
              0.8888888888888888,
              "#fdca26"
             ],
             [
              1,
              "#f0f921"
             ]
            ],
            "type": "contour"
           }
          ],
          "contourcarpet": [
           {
            "colorbar": {
             "outlinewidth": 0,
             "ticks": ""
            },
            "type": "contourcarpet"
           }
          ],
          "heatmap": [
           {
            "colorbar": {
             "outlinewidth": 0,
             "ticks": ""
            },
            "colorscale": [
             [
              0,
              "#0d0887"
             ],
             [
              0.1111111111111111,
              "#46039f"
             ],
             [
              0.2222222222222222,
              "#7201a8"
             ],
             [
              0.3333333333333333,
              "#9c179e"
             ],
             [
              0.4444444444444444,
              "#bd3786"
             ],
             [
              0.5555555555555556,
              "#d8576b"
             ],
             [
              0.6666666666666666,
              "#ed7953"
             ],
             [
              0.7777777777777778,
              "#fb9f3a"
             ],
             [
              0.8888888888888888,
              "#fdca26"
             ],
             [
              1,
              "#f0f921"
             ]
            ],
            "type": "heatmap"
           }
          ],
          "heatmapgl": [
           {
            "colorbar": {
             "outlinewidth": 0,
             "ticks": ""
            },
            "colorscale": [
             [
              0,
              "#0d0887"
             ],
             [
              0.1111111111111111,
              "#46039f"
             ],
             [
              0.2222222222222222,
              "#7201a8"
             ],
             [
              0.3333333333333333,
              "#9c179e"
             ],
             [
              0.4444444444444444,
              "#bd3786"
             ],
             [
              0.5555555555555556,
              "#d8576b"
             ],
             [
              0.6666666666666666,
              "#ed7953"
             ],
             [
              0.7777777777777778,
              "#fb9f3a"
             ],
             [
              0.8888888888888888,
              "#fdca26"
             ],
             [
              1,
              "#f0f921"
             ]
            ],
            "type": "heatmapgl"
           }
          ],
          "histogram": [
           {
            "marker": {
             "pattern": {
              "fillmode": "overlay",
              "size": 10,
              "solidity": 0.2
             }
            },
            "type": "histogram"
           }
          ],
          "histogram2d": [
           {
            "colorbar": {
             "outlinewidth": 0,
             "ticks": ""
            },
            "colorscale": [
             [
              0,
              "#0d0887"
             ],
             [
              0.1111111111111111,
              "#46039f"
             ],
             [
              0.2222222222222222,
              "#7201a8"
             ],
             [
              0.3333333333333333,
              "#9c179e"
             ],
             [
              0.4444444444444444,
              "#bd3786"
             ],
             [
              0.5555555555555556,
              "#d8576b"
             ],
             [
              0.6666666666666666,
              "#ed7953"
             ],
             [
              0.7777777777777778,
              "#fb9f3a"
             ],
             [
              0.8888888888888888,
              "#fdca26"
             ],
             [
              1,
              "#f0f921"
             ]
            ],
            "type": "histogram2d"
           }
          ],
          "histogram2dcontour": [
           {
            "colorbar": {
             "outlinewidth": 0,
             "ticks": ""
            },
            "colorscale": [
             [
              0,
              "#0d0887"
             ],
             [
              0.1111111111111111,
              "#46039f"
             ],
             [
              0.2222222222222222,
              "#7201a8"
             ],
             [
              0.3333333333333333,
              "#9c179e"
             ],
             [
              0.4444444444444444,
              "#bd3786"
             ],
             [
              0.5555555555555556,
              "#d8576b"
             ],
             [
              0.6666666666666666,
              "#ed7953"
             ],
             [
              0.7777777777777778,
              "#fb9f3a"
             ],
             [
              0.8888888888888888,
              "#fdca26"
             ],
             [
              1,
              "#f0f921"
             ]
            ],
            "type": "histogram2dcontour"
           }
          ],
          "mesh3d": [
           {
            "colorbar": {
             "outlinewidth": 0,
             "ticks": ""
            },
            "type": "mesh3d"
           }
          ],
          "parcoords": [
           {
            "line": {
             "colorbar": {
              "outlinewidth": 0,
              "ticks": ""
             }
            },
            "type": "parcoords"
           }
          ],
          "pie": [
           {
            "automargin": true,
            "type": "pie"
           }
          ],
          "scatter": [
           {
            "fillpattern": {
             "fillmode": "overlay",
             "size": 10,
             "solidity": 0.2
            },
            "type": "scatter"
           }
          ],
          "scatter3d": [
           {
            "line": {
             "colorbar": {
              "outlinewidth": 0,
              "ticks": ""
             }
            },
            "marker": {
             "colorbar": {
              "outlinewidth": 0,
              "ticks": ""
             }
            },
            "type": "scatter3d"
           }
          ],
          "scattercarpet": [
           {
            "marker": {
             "colorbar": {
              "outlinewidth": 0,
              "ticks": ""
             }
            },
            "type": "scattercarpet"
           }
          ],
          "scattergeo": [
           {
            "marker": {
             "colorbar": {
              "outlinewidth": 0,
              "ticks": ""
             }
            },
            "type": "scattergeo"
           }
          ],
          "scattergl": [
           {
            "marker": {
             "colorbar": {
              "outlinewidth": 0,
              "ticks": ""
             }
            },
            "type": "scattergl"
           }
          ],
          "scattermapbox": [
           {
            "marker": {
             "colorbar": {
              "outlinewidth": 0,
              "ticks": ""
             }
            },
            "type": "scattermapbox"
           }
          ],
          "scatterpolar": [
           {
            "marker": {
             "colorbar": {
              "outlinewidth": 0,
              "ticks": ""
             }
            },
            "type": "scatterpolar"
           }
          ],
          "scatterpolargl": [
           {
            "marker": {
             "colorbar": {
              "outlinewidth": 0,
              "ticks": ""
             }
            },
            "type": "scatterpolargl"
           }
          ],
          "scatterternary": [
           {
            "marker": {
             "colorbar": {
              "outlinewidth": 0,
              "ticks": ""
             }
            },
            "type": "scatterternary"
           }
          ],
          "surface": [
           {
            "colorbar": {
             "outlinewidth": 0,
             "ticks": ""
            },
            "colorscale": [
             [
              0,
              "#0d0887"
             ],
             [
              0.1111111111111111,
              "#46039f"
             ],
             [
              0.2222222222222222,
              "#7201a8"
             ],
             [
              0.3333333333333333,
              "#9c179e"
             ],
             [
              0.4444444444444444,
              "#bd3786"
             ],
             [
              0.5555555555555556,
              "#d8576b"
             ],
             [
              0.6666666666666666,
              "#ed7953"
             ],
             [
              0.7777777777777778,
              "#fb9f3a"
             ],
             [
              0.8888888888888888,
              "#fdca26"
             ],
             [
              1,
              "#f0f921"
             ]
            ],
            "type": "surface"
           }
          ],
          "table": [
           {
            "cells": {
             "fill": {
              "color": "#EBF0F8"
             },
             "line": {
              "color": "white"
             }
            },
            "header": {
             "fill": {
              "color": "#C8D4E3"
             },
             "line": {
              "color": "white"
             }
            },
            "type": "table"
           }
          ]
         },
         "layout": {
          "annotationdefaults": {
           "arrowcolor": "#2a3f5f",
           "arrowhead": 0,
           "arrowwidth": 1
          },
          "autotypenumbers": "strict",
          "coloraxis": {
           "colorbar": {
            "outlinewidth": 0,
            "ticks": ""
           }
          },
          "colorscale": {
           "diverging": [
            [
             0,
             "#8e0152"
            ],
            [
             0.1,
             "#c51b7d"
            ],
            [
             0.2,
             "#de77ae"
            ],
            [
             0.3,
             "#f1b6da"
            ],
            [
             0.4,
             "#fde0ef"
            ],
            [
             0.5,
             "#f7f7f7"
            ],
            [
             0.6,
             "#e6f5d0"
            ],
            [
             0.7,
             "#b8e186"
            ],
            [
             0.8,
             "#7fbc41"
            ],
            [
             0.9,
             "#4d9221"
            ],
            [
             1,
             "#276419"
            ]
           ],
           "sequential": [
            [
             0,
             "#0d0887"
            ],
            [
             0.1111111111111111,
             "#46039f"
            ],
            [
             0.2222222222222222,
             "#7201a8"
            ],
            [
             0.3333333333333333,
             "#9c179e"
            ],
            [
             0.4444444444444444,
             "#bd3786"
            ],
            [
             0.5555555555555556,
             "#d8576b"
            ],
            [
             0.6666666666666666,
             "#ed7953"
            ],
            [
             0.7777777777777778,
             "#fb9f3a"
            ],
            [
             0.8888888888888888,
             "#fdca26"
            ],
            [
             1,
             "#f0f921"
            ]
           ],
           "sequentialminus": [
            [
             0,
             "#0d0887"
            ],
            [
             0.1111111111111111,
             "#46039f"
            ],
            [
             0.2222222222222222,
             "#7201a8"
            ],
            [
             0.3333333333333333,
             "#9c179e"
            ],
            [
             0.4444444444444444,
             "#bd3786"
            ],
            [
             0.5555555555555556,
             "#d8576b"
            ],
            [
             0.6666666666666666,
             "#ed7953"
            ],
            [
             0.7777777777777778,
             "#fb9f3a"
            ],
            [
             0.8888888888888888,
             "#fdca26"
            ],
            [
             1,
             "#f0f921"
            ]
           ]
          },
          "colorway": [
           "#636efa",
           "#EF553B",
           "#00cc96",
           "#ab63fa",
           "#FFA15A",
           "#19d3f3",
           "#FF6692",
           "#B6E880",
           "#FF97FF",
           "#FECB52"
          ],
          "font": {
           "color": "#2a3f5f"
          },
          "geo": {
           "bgcolor": "white",
           "lakecolor": "white",
           "landcolor": "#E5ECF6",
           "showlakes": true,
           "showland": true,
           "subunitcolor": "white"
          },
          "hoverlabel": {
           "align": "left"
          },
          "hovermode": "closest",
          "mapbox": {
           "style": "light"
          },
          "paper_bgcolor": "white",
          "plot_bgcolor": "#E5ECF6",
          "polar": {
           "angularaxis": {
            "gridcolor": "white",
            "linecolor": "white",
            "ticks": ""
           },
           "bgcolor": "#E5ECF6",
           "radialaxis": {
            "gridcolor": "white",
            "linecolor": "white",
            "ticks": ""
           }
          },
          "scene": {
           "xaxis": {
            "backgroundcolor": "#E5ECF6",
            "gridcolor": "white",
            "gridwidth": 2,
            "linecolor": "white",
            "showbackground": true,
            "ticks": "",
            "zerolinecolor": "white"
           },
           "yaxis": {
            "backgroundcolor": "#E5ECF6",
            "gridcolor": "white",
            "gridwidth": 2,
            "linecolor": "white",
            "showbackground": true,
            "ticks": "",
            "zerolinecolor": "white"
           },
           "zaxis": {
            "backgroundcolor": "#E5ECF6",
            "gridcolor": "white",
            "gridwidth": 2,
            "linecolor": "white",
            "showbackground": true,
            "ticks": "",
            "zerolinecolor": "white"
           }
          },
          "shapedefaults": {
           "line": {
            "color": "#2a3f5f"
           }
          },
          "ternary": {
           "aaxis": {
            "gridcolor": "white",
            "linecolor": "white",
            "ticks": ""
           },
           "baxis": {
            "gridcolor": "white",
            "linecolor": "white",
            "ticks": ""
           },
           "bgcolor": "#E5ECF6",
           "caxis": {
            "gridcolor": "white",
            "linecolor": "white",
            "ticks": ""
           }
          },
          "title": {
           "x": 0.05
          },
          "xaxis": {
           "automargin": true,
           "gridcolor": "white",
           "linecolor": "white",
           "ticks": "",
           "title": {
            "standoff": 15
           },
           "zerolinecolor": "white",
           "zerolinewidth": 2
          },
          "yaxis": {
           "automargin": true,
           "gridcolor": "white",
           "linecolor": "white",
           "ticks": "",
           "title": {
            "standoff": 15
           },
           "zerolinecolor": "white",
           "zerolinewidth": 2
          }
         }
        },
        "title": {
         "text": "Sentiment Distribution"
        },
        "xaxis": {
         "anchor": "y",
         "domain": [
          0,
          1
         ],
         "title": {
          "text": "Sentiment"
         }
        },
        "yaxis": {
         "anchor": "x",
         "domain": [
          0,
          1
         ],
         "title": {
          "text": "Count"
         }
        }
       }
      }
     },
     "metadata": {},
     "output_type": "display_data"
    },
    {
     "data": {
      "application/vnd.plotly.v1+json": {
       "config": {
        "plotlyServerURL": "https://plot.ly"
       },
       "data": [
        {
         "alignmentgroup": "True",
         "hovertemplate": "Location=%{x}<br>Count=%{y}<extra></extra>",
         "legendgroup": "",
         "marker": {
          "color": "#636efa",
          "pattern": {
           "shape": ""
          }
         },
         "name": "",
         "offsetgroup": "",
         "orientation": "v",
         "showlegend": false,
         "textposition": "auto",
         "type": "bar",
         "x": [
          "United States",
          "London, England",
          "Washington, DC",
          "New York, NY",
          "Los Angeles, CA",
          "Toronto, Ontario",
          "Canada",
          "California, USA",
          "London",
          "Toronto"
         ],
         "xaxis": "x",
         "y": [
          75,
          48,
          38,
          34,
          33,
          29,
          29,
          26,
          25,
          21
         ],
         "yaxis": "y"
        }
       ],
       "layout": {
        "barmode": "relative",
        "legend": {
         "tracegroupgap": 0
        },
        "margin": {
         "t": 60
        },
        "template": {
         "data": {
          "bar": [
           {
            "error_x": {
             "color": "#2a3f5f"
            },
            "error_y": {
             "color": "#2a3f5f"
            },
            "marker": {
             "line": {
              "color": "#E5ECF6",
              "width": 0.5
             },
             "pattern": {
              "fillmode": "overlay",
              "size": 10,
              "solidity": 0.2
             }
            },
            "type": "bar"
           }
          ],
          "barpolar": [
           {
            "marker": {
             "line": {
              "color": "#E5ECF6",
              "width": 0.5
             },
             "pattern": {
              "fillmode": "overlay",
              "size": 10,
              "solidity": 0.2
             }
            },
            "type": "barpolar"
           }
          ],
          "carpet": [
           {
            "aaxis": {
             "endlinecolor": "#2a3f5f",
             "gridcolor": "white",
             "linecolor": "white",
             "minorgridcolor": "white",
             "startlinecolor": "#2a3f5f"
            },
            "baxis": {
             "endlinecolor": "#2a3f5f",
             "gridcolor": "white",
             "linecolor": "white",
             "minorgridcolor": "white",
             "startlinecolor": "#2a3f5f"
            },
            "type": "carpet"
           }
          ],
          "choropleth": [
           {
            "colorbar": {
             "outlinewidth": 0,
             "ticks": ""
            },
            "type": "choropleth"
           }
          ],
          "contour": [
           {
            "colorbar": {
             "outlinewidth": 0,
             "ticks": ""
            },
            "colorscale": [
             [
              0,
              "#0d0887"
             ],
             [
              0.1111111111111111,
              "#46039f"
             ],
             [
              0.2222222222222222,
              "#7201a8"
             ],
             [
              0.3333333333333333,
              "#9c179e"
             ],
             [
              0.4444444444444444,
              "#bd3786"
             ],
             [
              0.5555555555555556,
              "#d8576b"
             ],
             [
              0.6666666666666666,
              "#ed7953"
             ],
             [
              0.7777777777777778,
              "#fb9f3a"
             ],
             [
              0.8888888888888888,
              "#fdca26"
             ],
             [
              1,
              "#f0f921"
             ]
            ],
            "type": "contour"
           }
          ],
          "contourcarpet": [
           {
            "colorbar": {
             "outlinewidth": 0,
             "ticks": ""
            },
            "type": "contourcarpet"
           }
          ],
          "heatmap": [
           {
            "colorbar": {
             "outlinewidth": 0,
             "ticks": ""
            },
            "colorscale": [
             [
              0,
              "#0d0887"
             ],
             [
              0.1111111111111111,
              "#46039f"
             ],
             [
              0.2222222222222222,
              "#7201a8"
             ],
             [
              0.3333333333333333,
              "#9c179e"
             ],
             [
              0.4444444444444444,
              "#bd3786"
             ],
             [
              0.5555555555555556,
              "#d8576b"
             ],
             [
              0.6666666666666666,
              "#ed7953"
             ],
             [
              0.7777777777777778,
              "#fb9f3a"
             ],
             [
              0.8888888888888888,
              "#fdca26"
             ],
             [
              1,
              "#f0f921"
             ]
            ],
            "type": "heatmap"
           }
          ],
          "heatmapgl": [
           {
            "colorbar": {
             "outlinewidth": 0,
             "ticks": ""
            },
            "colorscale": [
             [
              0,
              "#0d0887"
             ],
             [
              0.1111111111111111,
              "#46039f"
             ],
             [
              0.2222222222222222,
              "#7201a8"
             ],
             [
              0.3333333333333333,
              "#9c179e"
             ],
             [
              0.4444444444444444,
              "#bd3786"
             ],
             [
              0.5555555555555556,
              "#d8576b"
             ],
             [
              0.6666666666666666,
              "#ed7953"
             ],
             [
              0.7777777777777778,
              "#fb9f3a"
             ],
             [
              0.8888888888888888,
              "#fdca26"
             ],
             [
              1,
              "#f0f921"
             ]
            ],
            "type": "heatmapgl"
           }
          ],
          "histogram": [
           {
            "marker": {
             "pattern": {
              "fillmode": "overlay",
              "size": 10,
              "solidity": 0.2
             }
            },
            "type": "histogram"
           }
          ],
          "histogram2d": [
           {
            "colorbar": {
             "outlinewidth": 0,
             "ticks": ""
            },
            "colorscale": [
             [
              0,
              "#0d0887"
             ],
             [
              0.1111111111111111,
              "#46039f"
             ],
             [
              0.2222222222222222,
              "#7201a8"
             ],
             [
              0.3333333333333333,
              "#9c179e"
             ],
             [
              0.4444444444444444,
              "#bd3786"
             ],
             [
              0.5555555555555556,
              "#d8576b"
             ],
             [
              0.6666666666666666,
              "#ed7953"
             ],
             [
              0.7777777777777778,
              "#fb9f3a"
             ],
             [
              0.8888888888888888,
              "#fdca26"
             ],
             [
              1,
              "#f0f921"
             ]
            ],
            "type": "histogram2d"
           }
          ],
          "histogram2dcontour": [
           {
            "colorbar": {
             "outlinewidth": 0,
             "ticks": ""
            },
            "colorscale": [
             [
              0,
              "#0d0887"
             ],
             [
              0.1111111111111111,
              "#46039f"
             ],
             [
              0.2222222222222222,
              "#7201a8"
             ],
             [
              0.3333333333333333,
              "#9c179e"
             ],
             [
              0.4444444444444444,
              "#bd3786"
             ],
             [
              0.5555555555555556,
              "#d8576b"
             ],
             [
              0.6666666666666666,
              "#ed7953"
             ],
             [
              0.7777777777777778,
              "#fb9f3a"
             ],
             [
              0.8888888888888888,
              "#fdca26"
             ],
             [
              1,
              "#f0f921"
             ]
            ],
            "type": "histogram2dcontour"
           }
          ],
          "mesh3d": [
           {
            "colorbar": {
             "outlinewidth": 0,
             "ticks": ""
            },
            "type": "mesh3d"
           }
          ],
          "parcoords": [
           {
            "line": {
             "colorbar": {
              "outlinewidth": 0,
              "ticks": ""
             }
            },
            "type": "parcoords"
           }
          ],
          "pie": [
           {
            "automargin": true,
            "type": "pie"
           }
          ],
          "scatter": [
           {
            "fillpattern": {
             "fillmode": "overlay",
             "size": 10,
             "solidity": 0.2
            },
            "type": "scatter"
           }
          ],
          "scatter3d": [
           {
            "line": {
             "colorbar": {
              "outlinewidth": 0,
              "ticks": ""
             }
            },
            "marker": {
             "colorbar": {
              "outlinewidth": 0,
              "ticks": ""
             }
            },
            "type": "scatter3d"
           }
          ],
          "scattercarpet": [
           {
            "marker": {
             "colorbar": {
              "outlinewidth": 0,
              "ticks": ""
             }
            },
            "type": "scattercarpet"
           }
          ],
          "scattergeo": [
           {
            "marker": {
             "colorbar": {
              "outlinewidth": 0,
              "ticks": ""
             }
            },
            "type": "scattergeo"
           }
          ],
          "scattergl": [
           {
            "marker": {
             "colorbar": {
              "outlinewidth": 0,
              "ticks": ""
             }
            },
            "type": "scattergl"
           }
          ],
          "scattermapbox": [
           {
            "marker": {
             "colorbar": {
              "outlinewidth": 0,
              "ticks": ""
             }
            },
            "type": "scattermapbox"
           }
          ],
          "scatterpolar": [
           {
            "marker": {
             "colorbar": {
              "outlinewidth": 0,
              "ticks": ""
             }
            },
            "type": "scatterpolar"
           }
          ],
          "scatterpolargl": [
           {
            "marker": {
             "colorbar": {
              "outlinewidth": 0,
              "ticks": ""
             }
            },
            "type": "scatterpolargl"
           }
          ],
          "scatterternary": [
           {
            "marker": {
             "colorbar": {
              "outlinewidth": 0,
              "ticks": ""
             }
            },
            "type": "scatterternary"
           }
          ],
          "surface": [
           {
            "colorbar": {
             "outlinewidth": 0,
             "ticks": ""
            },
            "colorscale": [
             [
              0,
              "#0d0887"
             ],
             [
              0.1111111111111111,
              "#46039f"
             ],
             [
              0.2222222222222222,
              "#7201a8"
             ],
             [
              0.3333333333333333,
              "#9c179e"
             ],
             [
              0.4444444444444444,
              "#bd3786"
             ],
             [
              0.5555555555555556,
              "#d8576b"
             ],
             [
              0.6666666666666666,
              "#ed7953"
             ],
             [
              0.7777777777777778,
              "#fb9f3a"
             ],
             [
              0.8888888888888888,
              "#fdca26"
             ],
             [
              1,
              "#f0f921"
             ]
            ],
            "type": "surface"
           }
          ],
          "table": [
           {
            "cells": {
             "fill": {
              "color": "#EBF0F8"
             },
             "line": {
              "color": "white"
             }
            },
            "header": {
             "fill": {
              "color": "#C8D4E3"
             },
             "line": {
              "color": "white"
             }
            },
            "type": "table"
           }
          ]
         },
         "layout": {
          "annotationdefaults": {
           "arrowcolor": "#2a3f5f",
           "arrowhead": 0,
           "arrowwidth": 1
          },
          "autotypenumbers": "strict",
          "coloraxis": {
           "colorbar": {
            "outlinewidth": 0,
            "ticks": ""
           }
          },
          "colorscale": {
           "diverging": [
            [
             0,
             "#8e0152"
            ],
            [
             0.1,
             "#c51b7d"
            ],
            [
             0.2,
             "#de77ae"
            ],
            [
             0.3,
             "#f1b6da"
            ],
            [
             0.4,
             "#fde0ef"
            ],
            [
             0.5,
             "#f7f7f7"
            ],
            [
             0.6,
             "#e6f5d0"
            ],
            [
             0.7,
             "#b8e186"
            ],
            [
             0.8,
             "#7fbc41"
            ],
            [
             0.9,
             "#4d9221"
            ],
            [
             1,
             "#276419"
            ]
           ],
           "sequential": [
            [
             0,
             "#0d0887"
            ],
            [
             0.1111111111111111,
             "#46039f"
            ],
            [
             0.2222222222222222,
             "#7201a8"
            ],
            [
             0.3333333333333333,
             "#9c179e"
            ],
            [
             0.4444444444444444,
             "#bd3786"
            ],
            [
             0.5555555555555556,
             "#d8576b"
            ],
            [
             0.6666666666666666,
             "#ed7953"
            ],
            [
             0.7777777777777778,
             "#fb9f3a"
            ],
            [
             0.8888888888888888,
             "#fdca26"
            ],
            [
             1,
             "#f0f921"
            ]
           ],
           "sequentialminus": [
            [
             0,
             "#0d0887"
            ],
            [
             0.1111111111111111,
             "#46039f"
            ],
            [
             0.2222222222222222,
             "#7201a8"
            ],
            [
             0.3333333333333333,
             "#9c179e"
            ],
            [
             0.4444444444444444,
             "#bd3786"
            ],
            [
             0.5555555555555556,
             "#d8576b"
            ],
            [
             0.6666666666666666,
             "#ed7953"
            ],
            [
             0.7777777777777778,
             "#fb9f3a"
            ],
            [
             0.8888888888888888,
             "#fdca26"
            ],
            [
             1,
             "#f0f921"
            ]
           ]
          },
          "colorway": [
           "#636efa",
           "#EF553B",
           "#00cc96",
           "#ab63fa",
           "#FFA15A",
           "#19d3f3",
           "#FF6692",
           "#B6E880",
           "#FF97FF",
           "#FECB52"
          ],
          "font": {
           "color": "#2a3f5f"
          },
          "geo": {
           "bgcolor": "white",
           "lakecolor": "white",
           "landcolor": "#E5ECF6",
           "showlakes": true,
           "showland": true,
           "subunitcolor": "white"
          },
          "hoverlabel": {
           "align": "left"
          },
          "hovermode": "closest",
          "mapbox": {
           "style": "light"
          },
          "paper_bgcolor": "white",
          "plot_bgcolor": "#E5ECF6",
          "polar": {
           "angularaxis": {
            "gridcolor": "white",
            "linecolor": "white",
            "ticks": ""
           },
           "bgcolor": "#E5ECF6",
           "radialaxis": {
            "gridcolor": "white",
            "linecolor": "white",
            "ticks": ""
           }
          },
          "scene": {
           "xaxis": {
            "backgroundcolor": "#E5ECF6",
            "gridcolor": "white",
            "gridwidth": 2,
            "linecolor": "white",
            "showbackground": true,
            "ticks": "",
            "zerolinecolor": "white"
           },
           "yaxis": {
            "backgroundcolor": "#E5ECF6",
            "gridcolor": "white",
            "gridwidth": 2,
            "linecolor": "white",
            "showbackground": true,
            "ticks": "",
            "zerolinecolor": "white"
           },
           "zaxis": {
            "backgroundcolor": "#E5ECF6",
            "gridcolor": "white",
            "gridwidth": 2,
            "linecolor": "white",
            "showbackground": true,
            "ticks": "",
            "zerolinecolor": "white"
           }
          },
          "shapedefaults": {
           "line": {
            "color": "#2a3f5f"
           }
          },
          "ternary": {
           "aaxis": {
            "gridcolor": "white",
            "linecolor": "white",
            "ticks": ""
           },
           "baxis": {
            "gridcolor": "white",
            "linecolor": "white",
            "ticks": ""
           },
           "bgcolor": "#E5ECF6",
           "caxis": {
            "gridcolor": "white",
            "linecolor": "white",
            "ticks": ""
           }
          },
          "title": {
           "x": 0.05
          },
          "xaxis": {
           "automargin": true,
           "gridcolor": "white",
           "linecolor": "white",
           "ticks": "",
           "title": {
            "standoff": 15
           },
           "zerolinecolor": "white",
           "zerolinewidth": 2
          },
          "yaxis": {
           "automargin": true,
           "gridcolor": "white",
           "linecolor": "white",
           "ticks": "",
           "title": {
            "standoff": 15
           },
           "zerolinecolor": "white",
           "zerolinewidth": 2
          }
         }
        },
        "title": {
         "text": "Top 10 Locations"
        },
        "xaxis": {
         "anchor": "y",
         "domain": [
          0,
          1
         ],
         "title": {
          "text": "Location"
         }
        },
        "yaxis": {
         "anchor": "x",
         "domain": [
          0,
          1
         ],
         "title": {
          "text": "Count"
         }
        }
       }
      }
     },
     "metadata": {},
     "output_type": "display_data"
    },
    {
     "name": "stderr",
     "output_type": "stream",
     "text": [
      "c:\\ProgramData\\anaconda3\\Lib\\site-packages\\_plotly_utils\\basevalidators.py:106: FutureWarning:\n",
      "\n",
      "The behavior of DatetimeProperties.to_pydatetime is deprecated, in a future version this will return a Series containing python datetime objects instead of an ndarray. To retain the old behavior, call `np.array` on the result\n",
      "\n"
     ]
    },
    {
     "data": {
      "application/vnd.plotly.v1+json": {
       "config": {
        "plotlyServerURL": "https://plot.ly"
       },
       "data": [
        {
         "hovertemplate": "TweetAt=%{x}<br>Count=%{y}<extra></extra>",
         "legendgroup": "",
         "line": {
          "color": "#636efa",
          "dash": "solid"
         },
         "marker": {
          "symbol": "circle"
         },
         "mode": "lines",
         "name": "",
         "orientation": "v",
         "showlegend": false,
         "type": "scatter",
         "x": [
          "2020-03-02T00:00:00",
          "2020-03-03T00:00:00",
          "2020-03-04T00:00:00",
          "2020-03-05T00:00:00",
          "2020-03-06T00:00:00",
          "2020-03-07T00:00:00",
          "2020-03-08T00:00:00",
          "2020-03-09T00:00:00",
          "2020-03-10T00:00:00",
          "2020-03-11T00:00:00",
          "2020-03-12T00:00:00",
          "2020-03-13T00:00:00",
          "2020-03-14T00:00:00",
          "2020-03-15T00:00:00",
          "2020-03-16T00:00:00"
         ],
         "xaxis": "x",
         "y": [
          4,
          4,
          8,
          6,
          2,
          7,
          9,
          16,
          54,
          165,
          685,
          1233,
          614,
          519,
          472
         ],
         "yaxis": "y"
        }
       ],
       "layout": {
        "legend": {
         "tracegroupgap": 0
        },
        "margin": {
         "t": 60
        },
        "template": {
         "data": {
          "bar": [
           {
            "error_x": {
             "color": "#2a3f5f"
            },
            "error_y": {
             "color": "#2a3f5f"
            },
            "marker": {
             "line": {
              "color": "#E5ECF6",
              "width": 0.5
             },
             "pattern": {
              "fillmode": "overlay",
              "size": 10,
              "solidity": 0.2
             }
            },
            "type": "bar"
           }
          ],
          "barpolar": [
           {
            "marker": {
             "line": {
              "color": "#E5ECF6",
              "width": 0.5
             },
             "pattern": {
              "fillmode": "overlay",
              "size": 10,
              "solidity": 0.2
             }
            },
            "type": "barpolar"
           }
          ],
          "carpet": [
           {
            "aaxis": {
             "endlinecolor": "#2a3f5f",
             "gridcolor": "white",
             "linecolor": "white",
             "minorgridcolor": "white",
             "startlinecolor": "#2a3f5f"
            },
            "baxis": {
             "endlinecolor": "#2a3f5f",
             "gridcolor": "white",
             "linecolor": "white",
             "minorgridcolor": "white",
             "startlinecolor": "#2a3f5f"
            },
            "type": "carpet"
           }
          ],
          "choropleth": [
           {
            "colorbar": {
             "outlinewidth": 0,
             "ticks": ""
            },
            "type": "choropleth"
           }
          ],
          "contour": [
           {
            "colorbar": {
             "outlinewidth": 0,
             "ticks": ""
            },
            "colorscale": [
             [
              0,
              "#0d0887"
             ],
             [
              0.1111111111111111,
              "#46039f"
             ],
             [
              0.2222222222222222,
              "#7201a8"
             ],
             [
              0.3333333333333333,
              "#9c179e"
             ],
             [
              0.4444444444444444,
              "#bd3786"
             ],
             [
              0.5555555555555556,
              "#d8576b"
             ],
             [
              0.6666666666666666,
              "#ed7953"
             ],
             [
              0.7777777777777778,
              "#fb9f3a"
             ],
             [
              0.8888888888888888,
              "#fdca26"
             ],
             [
              1,
              "#f0f921"
             ]
            ],
            "type": "contour"
           }
          ],
          "contourcarpet": [
           {
            "colorbar": {
             "outlinewidth": 0,
             "ticks": ""
            },
            "type": "contourcarpet"
           }
          ],
          "heatmap": [
           {
            "colorbar": {
             "outlinewidth": 0,
             "ticks": ""
            },
            "colorscale": [
             [
              0,
              "#0d0887"
             ],
             [
              0.1111111111111111,
              "#46039f"
             ],
             [
              0.2222222222222222,
              "#7201a8"
             ],
             [
              0.3333333333333333,
              "#9c179e"
             ],
             [
              0.4444444444444444,
              "#bd3786"
             ],
             [
              0.5555555555555556,
              "#d8576b"
             ],
             [
              0.6666666666666666,
              "#ed7953"
             ],
             [
              0.7777777777777778,
              "#fb9f3a"
             ],
             [
              0.8888888888888888,
              "#fdca26"
             ],
             [
              1,
              "#f0f921"
             ]
            ],
            "type": "heatmap"
           }
          ],
          "heatmapgl": [
           {
            "colorbar": {
             "outlinewidth": 0,
             "ticks": ""
            },
            "colorscale": [
             [
              0,
              "#0d0887"
             ],
             [
              0.1111111111111111,
              "#46039f"
             ],
             [
              0.2222222222222222,
              "#7201a8"
             ],
             [
              0.3333333333333333,
              "#9c179e"
             ],
             [
              0.4444444444444444,
              "#bd3786"
             ],
             [
              0.5555555555555556,
              "#d8576b"
             ],
             [
              0.6666666666666666,
              "#ed7953"
             ],
             [
              0.7777777777777778,
              "#fb9f3a"
             ],
             [
              0.8888888888888888,
              "#fdca26"
             ],
             [
              1,
              "#f0f921"
             ]
            ],
            "type": "heatmapgl"
           }
          ],
          "histogram": [
           {
            "marker": {
             "pattern": {
              "fillmode": "overlay",
              "size": 10,
              "solidity": 0.2
             }
            },
            "type": "histogram"
           }
          ],
          "histogram2d": [
           {
            "colorbar": {
             "outlinewidth": 0,
             "ticks": ""
            },
            "colorscale": [
             [
              0,
              "#0d0887"
             ],
             [
              0.1111111111111111,
              "#46039f"
             ],
             [
              0.2222222222222222,
              "#7201a8"
             ],
             [
              0.3333333333333333,
              "#9c179e"
             ],
             [
              0.4444444444444444,
              "#bd3786"
             ],
             [
              0.5555555555555556,
              "#d8576b"
             ],
             [
              0.6666666666666666,
              "#ed7953"
             ],
             [
              0.7777777777777778,
              "#fb9f3a"
             ],
             [
              0.8888888888888888,
              "#fdca26"
             ],
             [
              1,
              "#f0f921"
             ]
            ],
            "type": "histogram2d"
           }
          ],
          "histogram2dcontour": [
           {
            "colorbar": {
             "outlinewidth": 0,
             "ticks": ""
            },
            "colorscale": [
             [
              0,
              "#0d0887"
             ],
             [
              0.1111111111111111,
              "#46039f"
             ],
             [
              0.2222222222222222,
              "#7201a8"
             ],
             [
              0.3333333333333333,
              "#9c179e"
             ],
             [
              0.4444444444444444,
              "#bd3786"
             ],
             [
              0.5555555555555556,
              "#d8576b"
             ],
             [
              0.6666666666666666,
              "#ed7953"
             ],
             [
              0.7777777777777778,
              "#fb9f3a"
             ],
             [
              0.8888888888888888,
              "#fdca26"
             ],
             [
              1,
              "#f0f921"
             ]
            ],
            "type": "histogram2dcontour"
           }
          ],
          "mesh3d": [
           {
            "colorbar": {
             "outlinewidth": 0,
             "ticks": ""
            },
            "type": "mesh3d"
           }
          ],
          "parcoords": [
           {
            "line": {
             "colorbar": {
              "outlinewidth": 0,
              "ticks": ""
             }
            },
            "type": "parcoords"
           }
          ],
          "pie": [
           {
            "automargin": true,
            "type": "pie"
           }
          ],
          "scatter": [
           {
            "fillpattern": {
             "fillmode": "overlay",
             "size": 10,
             "solidity": 0.2
            },
            "type": "scatter"
           }
          ],
          "scatter3d": [
           {
            "line": {
             "colorbar": {
              "outlinewidth": 0,
              "ticks": ""
             }
            },
            "marker": {
             "colorbar": {
              "outlinewidth": 0,
              "ticks": ""
             }
            },
            "type": "scatter3d"
           }
          ],
          "scattercarpet": [
           {
            "marker": {
             "colorbar": {
              "outlinewidth": 0,
              "ticks": ""
             }
            },
            "type": "scattercarpet"
           }
          ],
          "scattergeo": [
           {
            "marker": {
             "colorbar": {
              "outlinewidth": 0,
              "ticks": ""
             }
            },
            "type": "scattergeo"
           }
          ],
          "scattergl": [
           {
            "marker": {
             "colorbar": {
              "outlinewidth": 0,
              "ticks": ""
             }
            },
            "type": "scattergl"
           }
          ],
          "scattermapbox": [
           {
            "marker": {
             "colorbar": {
              "outlinewidth": 0,
              "ticks": ""
             }
            },
            "type": "scattermapbox"
           }
          ],
          "scatterpolar": [
           {
            "marker": {
             "colorbar": {
              "outlinewidth": 0,
              "ticks": ""
             }
            },
            "type": "scatterpolar"
           }
          ],
          "scatterpolargl": [
           {
            "marker": {
             "colorbar": {
              "outlinewidth": 0,
              "ticks": ""
             }
            },
            "type": "scatterpolargl"
           }
          ],
          "scatterternary": [
           {
            "marker": {
             "colorbar": {
              "outlinewidth": 0,
              "ticks": ""
             }
            },
            "type": "scatterternary"
           }
          ],
          "surface": [
           {
            "colorbar": {
             "outlinewidth": 0,
             "ticks": ""
            },
            "colorscale": [
             [
              0,
              "#0d0887"
             ],
             [
              0.1111111111111111,
              "#46039f"
             ],
             [
              0.2222222222222222,
              "#7201a8"
             ],
             [
              0.3333333333333333,
              "#9c179e"
             ],
             [
              0.4444444444444444,
              "#bd3786"
             ],
             [
              0.5555555555555556,
              "#d8576b"
             ],
             [
              0.6666666666666666,
              "#ed7953"
             ],
             [
              0.7777777777777778,
              "#fb9f3a"
             ],
             [
              0.8888888888888888,
              "#fdca26"
             ],
             [
              1,
              "#f0f921"
             ]
            ],
            "type": "surface"
           }
          ],
          "table": [
           {
            "cells": {
             "fill": {
              "color": "#EBF0F8"
             },
             "line": {
              "color": "white"
             }
            },
            "header": {
             "fill": {
              "color": "#C8D4E3"
             },
             "line": {
              "color": "white"
             }
            },
            "type": "table"
           }
          ]
         },
         "layout": {
          "annotationdefaults": {
           "arrowcolor": "#2a3f5f",
           "arrowhead": 0,
           "arrowwidth": 1
          },
          "autotypenumbers": "strict",
          "coloraxis": {
           "colorbar": {
            "outlinewidth": 0,
            "ticks": ""
           }
          },
          "colorscale": {
           "diverging": [
            [
             0,
             "#8e0152"
            ],
            [
             0.1,
             "#c51b7d"
            ],
            [
             0.2,
             "#de77ae"
            ],
            [
             0.3,
             "#f1b6da"
            ],
            [
             0.4,
             "#fde0ef"
            ],
            [
             0.5,
             "#f7f7f7"
            ],
            [
             0.6,
             "#e6f5d0"
            ],
            [
             0.7,
             "#b8e186"
            ],
            [
             0.8,
             "#7fbc41"
            ],
            [
             0.9,
             "#4d9221"
            ],
            [
             1,
             "#276419"
            ]
           ],
           "sequential": [
            [
             0,
             "#0d0887"
            ],
            [
             0.1111111111111111,
             "#46039f"
            ],
            [
             0.2222222222222222,
             "#7201a8"
            ],
            [
             0.3333333333333333,
             "#9c179e"
            ],
            [
             0.4444444444444444,
             "#bd3786"
            ],
            [
             0.5555555555555556,
             "#d8576b"
            ],
            [
             0.6666666666666666,
             "#ed7953"
            ],
            [
             0.7777777777777778,
             "#fb9f3a"
            ],
            [
             0.8888888888888888,
             "#fdca26"
            ],
            [
             1,
             "#f0f921"
            ]
           ],
           "sequentialminus": [
            [
             0,
             "#0d0887"
            ],
            [
             0.1111111111111111,
             "#46039f"
            ],
            [
             0.2222222222222222,
             "#7201a8"
            ],
            [
             0.3333333333333333,
             "#9c179e"
            ],
            [
             0.4444444444444444,
             "#bd3786"
            ],
            [
             0.5555555555555556,
             "#d8576b"
            ],
            [
             0.6666666666666666,
             "#ed7953"
            ],
            [
             0.7777777777777778,
             "#fb9f3a"
            ],
            [
             0.8888888888888888,
             "#fdca26"
            ],
            [
             1,
             "#f0f921"
            ]
           ]
          },
          "colorway": [
           "#636efa",
           "#EF553B",
           "#00cc96",
           "#ab63fa",
           "#FFA15A",
           "#19d3f3",
           "#FF6692",
           "#B6E880",
           "#FF97FF",
           "#FECB52"
          ],
          "font": {
           "color": "#2a3f5f"
          },
          "geo": {
           "bgcolor": "white",
           "lakecolor": "white",
           "landcolor": "#E5ECF6",
           "showlakes": true,
           "showland": true,
           "subunitcolor": "white"
          },
          "hoverlabel": {
           "align": "left"
          },
          "hovermode": "closest",
          "mapbox": {
           "style": "light"
          },
          "paper_bgcolor": "white",
          "plot_bgcolor": "#E5ECF6",
          "polar": {
           "angularaxis": {
            "gridcolor": "white",
            "linecolor": "white",
            "ticks": ""
           },
           "bgcolor": "#E5ECF6",
           "radialaxis": {
            "gridcolor": "white",
            "linecolor": "white",
            "ticks": ""
           }
          },
          "scene": {
           "xaxis": {
            "backgroundcolor": "#E5ECF6",
            "gridcolor": "white",
            "gridwidth": 2,
            "linecolor": "white",
            "showbackground": true,
            "ticks": "",
            "zerolinecolor": "white"
           },
           "yaxis": {
            "backgroundcolor": "#E5ECF6",
            "gridcolor": "white",
            "gridwidth": 2,
            "linecolor": "white",
            "showbackground": true,
            "ticks": "",
            "zerolinecolor": "white"
           },
           "zaxis": {
            "backgroundcolor": "#E5ECF6",
            "gridcolor": "white",
            "gridwidth": 2,
            "linecolor": "white",
            "showbackground": true,
            "ticks": "",
            "zerolinecolor": "white"
           }
          },
          "shapedefaults": {
           "line": {
            "color": "#2a3f5f"
           }
          },
          "ternary": {
           "aaxis": {
            "gridcolor": "white",
            "linecolor": "white",
            "ticks": ""
           },
           "baxis": {
            "gridcolor": "white",
            "linecolor": "white",
            "ticks": ""
           },
           "bgcolor": "#E5ECF6",
           "caxis": {
            "gridcolor": "white",
            "linecolor": "white",
            "ticks": ""
           }
          },
          "title": {
           "x": 0.05
          },
          "xaxis": {
           "automargin": true,
           "gridcolor": "white",
           "linecolor": "white",
           "ticks": "",
           "title": {
            "standoff": 15
           },
           "zerolinecolor": "white",
           "zerolinewidth": 2
          },
          "yaxis": {
           "automargin": true,
           "gridcolor": "white",
           "linecolor": "white",
           "ticks": "",
           "title": {
            "standoff": 15
           },
           "zerolinecolor": "white",
           "zerolinewidth": 2
          }
         }
        },
        "title": {
         "text": "Tweet Volume Over Time"
        },
        "xaxis": {
         "anchor": "y",
         "domain": [
          0,
          1
         ],
         "title": {
          "text": "TweetAt"
         }
        },
        "yaxis": {
         "anchor": "x",
         "domain": [
          0,
          1
         ],
         "title": {
          "text": "Count"
         }
        }
       }
      }
     },
     "metadata": {},
     "output_type": "display_data"
    },
    {
     "data": {
      "application/vnd.plotly.v1+json": {
       "config": {
        "plotlyServerURL": "https://plot.ly"
       },
       "data": [
        {
         "hovertemplate": "x: %{x}<br>y: %{y}<br>color: [%{z[0]}, %{z[1]}, %{z[2]}]<extra></extra>",
         "name": "0",
         "source": "data:image/png;base64,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",
         "type": "image",
         "xaxis": "x",
         "yaxis": "y"
        }
       ],
       "layout": {
        "margin": {
         "t": 60
        },
        "template": {
         "data": {
          "bar": [
           {
            "error_x": {
             "color": "#2a3f5f"
            },
            "error_y": {
             "color": "#2a3f5f"
            },
            "marker": {
             "line": {
              "color": "#E5ECF6",
              "width": 0.5
             },
             "pattern": {
              "fillmode": "overlay",
              "size": 10,
              "solidity": 0.2
             }
            },
            "type": "bar"
           }
          ],
          "barpolar": [
           {
            "marker": {
             "line": {
              "color": "#E5ECF6",
              "width": 0.5
             },
             "pattern": {
              "fillmode": "overlay",
              "size": 10,
              "solidity": 0.2
             }
            },
            "type": "barpolar"
           }
          ],
          "carpet": [
           {
            "aaxis": {
             "endlinecolor": "#2a3f5f",
             "gridcolor": "white",
             "linecolor": "white",
             "minorgridcolor": "white",
             "startlinecolor": "#2a3f5f"
            },
            "baxis": {
             "endlinecolor": "#2a3f5f",
             "gridcolor": "white",
             "linecolor": "white",
             "minorgridcolor": "white",
             "startlinecolor": "#2a3f5f"
            },
            "type": "carpet"
           }
          ],
          "choropleth": [
           {
            "colorbar": {
             "outlinewidth": 0,
             "ticks": ""
            },
            "type": "choropleth"
           }
          ],
          "contour": [
           {
            "colorbar": {
             "outlinewidth": 0,
             "ticks": ""
            },
            "colorscale": [
             [
              0,
              "#0d0887"
             ],
             [
              0.1111111111111111,
              "#46039f"
             ],
             [
              0.2222222222222222,
              "#7201a8"
             ],
             [
              0.3333333333333333,
              "#9c179e"
             ],
             [
              0.4444444444444444,
              "#bd3786"
             ],
             [
              0.5555555555555556,
              "#d8576b"
             ],
             [
              0.6666666666666666,
              "#ed7953"
             ],
             [
              0.7777777777777778,
              "#fb9f3a"
             ],
             [
              0.8888888888888888,
              "#fdca26"
             ],
             [
              1,
              "#f0f921"
             ]
            ],
            "type": "contour"
           }
          ],
          "contourcarpet": [
           {
            "colorbar": {
             "outlinewidth": 0,
             "ticks": ""
            },
            "type": "contourcarpet"
           }
          ],
          "heatmap": [
           {
            "colorbar": {
             "outlinewidth": 0,
             "ticks": ""
            },
            "colorscale": [
             [
              0,
              "#0d0887"
             ],
             [
              0.1111111111111111,
              "#46039f"
             ],
             [
              0.2222222222222222,
              "#7201a8"
             ],
             [
              0.3333333333333333,
              "#9c179e"
             ],
             [
              0.4444444444444444,
              "#bd3786"
             ],
             [
              0.5555555555555556,
              "#d8576b"
             ],
             [
              0.6666666666666666,
              "#ed7953"
             ],
             [
              0.7777777777777778,
              "#fb9f3a"
             ],
             [
              0.8888888888888888,
              "#fdca26"
             ],
             [
              1,
              "#f0f921"
             ]
            ],
            "type": "heatmap"
           }
          ],
          "heatmapgl": [
           {
            "colorbar": {
             "outlinewidth": 0,
             "ticks": ""
            },
            "colorscale": [
             [
              0,
              "#0d0887"
             ],
             [
              0.1111111111111111,
              "#46039f"
             ],
             [
              0.2222222222222222,
              "#7201a8"
             ],
             [
              0.3333333333333333,
              "#9c179e"
             ],
             [
              0.4444444444444444,
              "#bd3786"
             ],
             [
              0.5555555555555556,
              "#d8576b"
             ],
             [
              0.6666666666666666,
              "#ed7953"
             ],
             [
              0.7777777777777778,
              "#fb9f3a"
             ],
             [
              0.8888888888888888,
              "#fdca26"
             ],
             [
              1,
              "#f0f921"
             ]
            ],
            "type": "heatmapgl"
           }
          ],
          "histogram": [
           {
            "marker": {
             "pattern": {
              "fillmode": "overlay",
              "size": 10,
              "solidity": 0.2
             }
            },
            "type": "histogram"
           }
          ],
          "histogram2d": [
           {
            "colorbar": {
             "outlinewidth": 0,
             "ticks": ""
            },
            "colorscale": [
             [
              0,
              "#0d0887"
             ],
             [
              0.1111111111111111,
              "#46039f"
             ],
             [
              0.2222222222222222,
              "#7201a8"
             ],
             [
              0.3333333333333333,
              "#9c179e"
             ],
             [
              0.4444444444444444,
              "#bd3786"
             ],
             [
              0.5555555555555556,
              "#d8576b"
             ],
             [
              0.6666666666666666,
              "#ed7953"
             ],
             [
              0.7777777777777778,
              "#fb9f3a"
             ],
             [
              0.8888888888888888,
              "#fdca26"
             ],
             [
              1,
              "#f0f921"
             ]
            ],
            "type": "histogram2d"
           }
          ],
          "histogram2dcontour": [
           {
            "colorbar": {
             "outlinewidth": 0,
             "ticks": ""
            },
            "colorscale": [
             [
              0,
              "#0d0887"
             ],
             [
              0.1111111111111111,
              "#46039f"
             ],
             [
              0.2222222222222222,
              "#7201a8"
             ],
             [
              0.3333333333333333,
              "#9c179e"
             ],
             [
              0.4444444444444444,
              "#bd3786"
             ],
             [
              0.5555555555555556,
              "#d8576b"
             ],
             [
              0.6666666666666666,
              "#ed7953"
             ],
             [
              0.7777777777777778,
              "#fb9f3a"
             ],
             [
              0.8888888888888888,
              "#fdca26"
             ],
             [
              1,
              "#f0f921"
             ]
            ],
            "type": "histogram2dcontour"
           }
          ],
          "mesh3d": [
           {
            "colorbar": {
             "outlinewidth": 0,
             "ticks": ""
            },
            "type": "mesh3d"
           }
          ],
          "parcoords": [
           {
            "line": {
             "colorbar": {
              "outlinewidth": 0,
              "ticks": ""
             }
            },
            "type": "parcoords"
           }
          ],
          "pie": [
           {
            "automargin": true,
            "type": "pie"
           }
          ],
          "scatter": [
           {
            "fillpattern": {
             "fillmode": "overlay",
             "size": 10,
             "solidity": 0.2
            },
            "type": "scatter"
           }
          ],
          "scatter3d": [
           {
            "line": {
             "colorbar": {
              "outlinewidth": 0,
              "ticks": ""
             }
            },
            "marker": {
             "colorbar": {
              "outlinewidth": 0,
              "ticks": ""
             }
            },
            "type": "scatter3d"
           }
          ],
          "scattercarpet": [
           {
            "marker": {
             "colorbar": {
              "outlinewidth": 0,
              "ticks": ""
             }
            },
            "type": "scattercarpet"
           }
          ],
          "scattergeo": [
           {
            "marker": {
             "colorbar": {
              "outlinewidth": 0,
              "ticks": ""
             }
            },
            "type": "scattergeo"
           }
          ],
          "scattergl": [
           {
            "marker": {
             "colorbar": {
              "outlinewidth": 0,
              "ticks": ""
             }
            },
            "type": "scattergl"
           }
          ],
          "scattermapbox": [
           {
            "marker": {
             "colorbar": {
              "outlinewidth": 0,
              "ticks": ""
             }
            },
            "type": "scattermapbox"
           }
          ],
          "scatterpolar": [
           {
            "marker": {
             "colorbar": {
              "outlinewidth": 0,
              "ticks": ""
             }
            },
            "type": "scatterpolar"
           }
          ],
          "scatterpolargl": [
           {
            "marker": {
             "colorbar": {
              "outlinewidth": 0,
              "ticks": ""
             }
            },
            "type": "scatterpolargl"
           }
          ],
          "scatterternary": [
           {
            "marker": {
             "colorbar": {
              "outlinewidth": 0,
              "ticks": ""
             }
            },
            "type": "scatterternary"
           }
          ],
          "surface": [
           {
            "colorbar": {
             "outlinewidth": 0,
             "ticks": ""
            },
            "colorscale": [
             [
              0,
              "#0d0887"
             ],
             [
              0.1111111111111111,
              "#46039f"
             ],
             [
              0.2222222222222222,
              "#7201a8"
             ],
             [
              0.3333333333333333,
              "#9c179e"
             ],
             [
              0.4444444444444444,
              "#bd3786"
             ],
             [
              0.5555555555555556,
              "#d8576b"
             ],
             [
              0.6666666666666666,
              "#ed7953"
             ],
             [
              0.7777777777777778,
              "#fb9f3a"
             ],
             [
              0.8888888888888888,
              "#fdca26"
             ],
             [
              1,
              "#f0f921"
             ]
            ],
            "type": "surface"
           }
          ],
          "table": [
           {
            "cells": {
             "fill": {
              "color": "#EBF0F8"
             },
             "line": {
              "color": "white"
             }
            },
            "header": {
             "fill": {
              "color": "#C8D4E3"
             },
             "line": {
              "color": "white"
             }
            },
            "type": "table"
           }
          ]
         },
         "layout": {
          "annotationdefaults": {
           "arrowcolor": "#2a3f5f",
           "arrowhead": 0,
           "arrowwidth": 1
          },
          "autotypenumbers": "strict",
          "coloraxis": {
           "colorbar": {
            "outlinewidth": 0,
            "ticks": ""
           }
          },
          "colorscale": {
           "diverging": [
            [
             0,
             "#8e0152"
            ],
            [
             0.1,
             "#c51b7d"
            ],
            [
             0.2,
             "#de77ae"
            ],
            [
             0.3,
             "#f1b6da"
            ],
            [
             0.4,
             "#fde0ef"
            ],
            [
             0.5,
             "#f7f7f7"
            ],
            [
             0.6,
             "#e6f5d0"
            ],
            [
             0.7,
             "#b8e186"
            ],
            [
             0.8,
             "#7fbc41"
            ],
            [
             0.9,
             "#4d9221"
            ],
            [
             1,
             "#276419"
            ]
           ],
           "sequential": [
            [
             0,
             "#0d0887"
            ],
            [
             0.1111111111111111,
             "#46039f"
            ],
            [
             0.2222222222222222,
             "#7201a8"
            ],
            [
             0.3333333333333333,
             "#9c179e"
            ],
            [
             0.4444444444444444,
             "#bd3786"
            ],
            [
             0.5555555555555556,
             "#d8576b"
            ],
            [
             0.6666666666666666,
             "#ed7953"
            ],
            [
             0.7777777777777778,
             "#fb9f3a"
            ],
            [
             0.8888888888888888,
             "#fdca26"
            ],
            [
             1,
             "#f0f921"
            ]
           ],
           "sequentialminus": [
            [
             0,
             "#0d0887"
            ],
            [
             0.1111111111111111,
             "#46039f"
            ],
            [
             0.2222222222222222,
             "#7201a8"
            ],
            [
             0.3333333333333333,
             "#9c179e"
            ],
            [
             0.4444444444444444,
             "#bd3786"
            ],
            [
             0.5555555555555556,
             "#d8576b"
            ],
            [
             0.6666666666666666,
             "#ed7953"
            ],
            [
             0.7777777777777778,
             "#fb9f3a"
            ],
            [
             0.8888888888888888,
             "#fdca26"
            ],
            [
             1,
             "#f0f921"
            ]
           ]
          },
          "colorway": [
           "#636efa",
           "#EF553B",
           "#00cc96",
           "#ab63fa",
           "#FFA15A",
           "#19d3f3",
           "#FF6692",
           "#B6E880",
           "#FF97FF",
           "#FECB52"
          ],
          "font": {
           "color": "#2a3f5f"
          },
          "geo": {
           "bgcolor": "white",
           "lakecolor": "white",
           "landcolor": "#E5ECF6",
           "showlakes": true,
           "showland": true,
           "subunitcolor": "white"
          },
          "hoverlabel": {
           "align": "left"
          },
          "hovermode": "closest",
          "mapbox": {
           "style": "light"
          },
          "paper_bgcolor": "white",
          "plot_bgcolor": "#E5ECF6",
          "polar": {
           "angularaxis": {
            "gridcolor": "white",
            "linecolor": "white",
            "ticks": ""
           },
           "bgcolor": "#E5ECF6",
           "radialaxis": {
            "gridcolor": "white",
            "linecolor": "white",
            "ticks": ""
           }
          },
          "scene": {
           "xaxis": {
            "backgroundcolor": "#E5ECF6",
            "gridcolor": "white",
            "gridwidth": 2,
            "linecolor": "white",
            "showbackground": true,
            "ticks": "",
            "zerolinecolor": "white"
           },
           "yaxis": {
            "backgroundcolor": "#E5ECF6",
            "gridcolor": "white",
            "gridwidth": 2,
            "linecolor": "white",
            "showbackground": true,
            "ticks": "",
            "zerolinecolor": "white"
           },
           "zaxis": {
            "backgroundcolor": "#E5ECF6",
            "gridcolor": "white",
            "gridwidth": 2,
            "linecolor": "white",
            "showbackground": true,
            "ticks": "",
            "zerolinecolor": "white"
           }
          },
          "shapedefaults": {
           "line": {
            "color": "#2a3f5f"
           }
          },
          "ternary": {
           "aaxis": {
            "gridcolor": "white",
            "linecolor": "white",
            "ticks": ""
           },
           "baxis": {
            "gridcolor": "white",
            "linecolor": "white",
            "ticks": ""
           },
           "bgcolor": "#E5ECF6",
           "caxis": {
            "gridcolor": "white",
            "linecolor": "white",
            "ticks": ""
           }
          },
          "title": {
           "x": 0.05
          },
          "xaxis": {
           "automargin": true,
           "gridcolor": "white",
           "linecolor": "white",
           "ticks": "",
           "title": {
            "standoff": 15
           },
           "zerolinecolor": "white",
           "zerolinewidth": 2
          },
          "yaxis": {
           "automargin": true,
           "gridcolor": "white",
           "linecolor": "white",
           "ticks": "",
           "title": {
            "standoff": 15
           },
           "zerolinecolor": "white",
           "zerolinewidth": 2
          }
         }
        },
        "title": {
         "text": "Word Cloud of Original Tweets"
        },
        "xaxis": {
         "anchor": "y",
         "domain": [
          0,
          1
         ]
        },
        "yaxis": {
         "anchor": "x",
         "domain": [
          0,
          1
         ]
        }
       }
      }
     },
     "metadata": {},
     "output_type": "display_data"
    }
   ],
   "source": [
    "import pandas as pd\n",
    "import plotly.express as px\n",
    "\n",
    "# Load the data\n",
    "data = pd.read_csv('Corona_NLP_test.csv')\n",
    "\n",
    "# Analysis 1: Sentiment Distribution\n",
    "sentiment_counts = data['Sentiment'].value_counts().reset_index()\n",
    "sentiment_counts.columns = ['Sentiment', 'Count']\n",
    "\n",
    "fig1 = px.bar(sentiment_counts, x='Sentiment', y='Count', labels={'x': 'Sentiment', 'y': 'Count'})\n",
    "fig1.update_layout(title='Sentiment Distribution')\n",
    "fig1.show()\n",
    "\n",
    "# Analysis 2: Location Analysis\n",
    "location_counts = data['Location'].value_counts().reset_index().head(10)\n",
    "location_counts.columns = ['Location', 'Count']\n",
    "\n",
    "fig2 = px.bar(location_counts, x='Location', y='Count', labels={'x': 'Location', 'y': 'Count'})\n",
    "fig2.update_layout(title='Top 10 Locations')\n",
    "fig2.show()\n",
    "\n",
    "# Analysis 3: Tweet Volume Over Time\n",
    "data['TweetAt'] = pd.to_datetime(data['TweetAt'], format='%d-%m-%Y')\n",
    "tweet_volume = data.groupby('TweetAt').size().reset_index(name='Count')\n",
    "\n",
    "fig3 = px.line(tweet_volume, x='TweetAt', y='Count', labels={'x': 'Date', 'y': 'Tweet Volume'})\n",
    "fig3.update_layout(title='Tweet Volume Over Time')\n",
    "fig3.show()\n",
    "\n",
    "# Analysis 4: Word Cloud of Original Tweets\n",
    "from wordcloud import WordCloud\n",
    "\n",
    "text = ' '.join(data['OriginalTweet'].dropna().tolist())\n",
    "wordcloud = WordCloud(width=800, height=400).generate(text)\n",
    "\n",
    "fig4 = px.imshow(wordcloud)\n",
    "fig4.update_layout(title='Word Cloud of Original Tweets')\n",
    "fig4.show()"
   ]
  },
  {
   "cell_type": "code",
   "execution_count": null,
   "metadata": {},
   "outputs": [],
   "source": []
  },
  {
   "cell_type": "code",
   "execution_count": null,
   "metadata": {},
   "outputs": [],
   "source": []
  }
 ],
 "metadata": {
  "kernelspec": {
   "display_name": "base",
   "language": "python",
   "name": "python3"
  },
  "language_info": {
   "codemirror_mode": {
    "name": "ipython",
    "version": 3
   },
   "file_extension": ".py",
   "mimetype": "text/x-python",
   "name": "python",
   "nbconvert_exporter": "python",
   "pygments_lexer": "ipython3",
   "version": "3.11.5"
  }
 },
 "nbformat": 4,
 "nbformat_minor": 2
}
